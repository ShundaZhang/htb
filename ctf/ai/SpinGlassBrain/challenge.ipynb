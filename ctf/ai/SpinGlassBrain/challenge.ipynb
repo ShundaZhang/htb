{
 "cells": [
  {
   "cell_type": "code",
   "execution_count": null,
   "metadata": {},
   "outputs": [],
   "source": [
    "%matplotlib inline\n",
    "import matplotlib.pyplot as plt\n",
    "import numpy as np"
   ]
  },
  {
   "cell_type": "code",
   "execution_count": null,
   "metadata": {},
   "outputs": [],
   "source": [
    "weights = np.load(\"weights.npy\")"
   ]
  },
  {
   "cell_type": "code",
   "execution_count": null,
   "metadata": {},
   "outputs": [],
   "source": [
    "def encode_pattern(key, arr):\n",
    "    assert(arr.shape == (80,80))\n",
    "    X = arr.copy().flatten()\n",
    "    \n",
    "    boolean = format(key, '06b')\n",
    "    for c_ix, c in enumerate(boolean):\n",
    "        if c == '1':\n",
    "            X[c_ix] = 1\n",
    "        else:\n",
    "            X[c_ix] = -1\n",
    "    return X"
   ]
  },
  {
   "cell_type": "code",
   "execution_count": null,
   "metadata": {},
   "outputs": [],
   "source": [
    "flag = np.zeros((16,80,80))"
   ]
  },
  {
   "cell_type": "code",
   "execution_count": null,
   "metadata": {},
   "outputs": [],
   "source": []
  },
  {
   "cell_type": "code",
   "execution_count": null,
   "metadata": {},
   "outputs": [],
   "source": [
    "# Plot the flag\n",
    "fig, axs = plt.subplots(3, 7, figsize=(14, 6))\n",
    "plt.subplots_adjust(wspace=0, hspace=0)\n",
    "axs = axs.flatten()\n",
    "for c, ax in zip(flag, axs):\n",
    "    ax.imshow(c.reshape(80,80), cmap=\"gray\", aspect=\"auto\")\n",
    "for ax in axs:\n",
    "    ax.set_xticks([])\n",
    "    ax.set_yticks([])\n",
    "plt.show()"
   ]
  }
 ],
 "metadata": {
  "anaconda-cloud": {},
  "kernelspec": {
   "display_name": "Python 3",
   "language": "python",
   "name": "python3"
  },
  "language_info": {
   "codemirror_mode": {
    "name": "ipython",
    "version": 3
   },
   "file_extension": ".py",
   "mimetype": "text/x-python",
   "name": "python",
   "nbconvert_exporter": "python",
   "pygments_lexer": "ipython3",
   "version": "3.6.13"
  },
  "vscode": {
   "interpreter": {
    "hash": "5f052520b2ef76fc04cca7b88e5fa959247ecc46a09cd2037d83a5cd21753f46"
   }
  }
 },
 "nbformat": 4,
 "nbformat_minor": 1
}
