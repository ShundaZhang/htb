{
 "cells": [
  {
   "cell_type": "code",
   "execution_count": null,
   "metadata": {},
   "outputs": [],
   "source": [
    "import matplotlib.pyplot as plt\n",
    "import numpy as np"
   ]
  },
  {
   "cell_type": "code",
   "execution_count": null,
   "metadata": {},
   "outputs": [],
   "source": [
    "data = np.loadtxt(\"data.npy.gz\")\n",
    "core_data = np.loadtxt(\"known_samples.npy.gz\")\n",
    "all_data = np.vstack((core_data, data))\n",
    "del data\n",
    "\n",
    "class_count = len(core_data)"
   ]
  },
  {
   "cell_type": "code",
   "execution_count": null,
   "metadata": {},
   "outputs": [],
   "source": [
    "out_labels = np.full((all_data.shape[0],), -1)"
   ]
  },
  {
   "cell_type": "code",
   "execution_count": null,
   "metadata": {},
   "outputs": [],
   "source": []
  },
  {
   "cell_type": "code",
   "execution_count": null,
   "metadata": {},
   "outputs": [],
   "source": [
    "assert(np.all(np.logical_and(0 <= out_labels, out_labels < 256)))\n",
    "\n",
    "file_data = bytearray(out_labels[256:].shape[0])\n",
    "for ix, val in enumerate(out_labels[256:]):\n",
    "    file_data[ix] = val\n",
    "file_data = bytes(file_data)\n",
    "with open(\"flag.jpg\", \"wb\") as outfile:\n",
    "    outfile.write(file_data)\n",
    "del file_data"
   ]
  }
 ],
 "metadata": {
  "anaconda-cloud": {},
  "kernelspec": {
   "display_name": "Python 3",
   "language": "python",
   "name": "python3"
  },
  "language_info": {
   "codemirror_mode": {
    "name": "ipython",
    "version": 3
   },
   "file_extension": ".py",
   "mimetype": "text/x-python",
   "name": "python",
   "nbconvert_exporter": "python",
   "pygments_lexer": "ipython3",
   "version": "3.6.13"
  },
  "vscode": {
   "interpreter": {
    "hash": "5f052520b2ef76fc04cca7b88e5fa959247ecc46a09cd2037d83a5cd21753f46"
   }
  }
 },
 "nbformat": 4,
 "nbformat_minor": 1
}
